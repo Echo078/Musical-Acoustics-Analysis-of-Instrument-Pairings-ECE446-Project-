{
  "nbformat": 4,
  "nbformat_minor": 0,
  "metadata": {
    "colab": {
      "provenance": []
    },
    "kernelspec": {
      "name": "python3",
      "display_name": "Python 3"
    },
    "language_info": {
      "name": "python"
    }
  },
  "cells": [
    {
      "cell_type": "markdown",
      "source": [
        "Step 1: Mount Google **Drive**"
      ],
      "metadata": {
        "id": "g5OmTgdi_sUs"
      }
    },
    {
      "cell_type": "code",
      "execution_count": null,
      "metadata": {
        "colab": {
          "base_uri": "https://localhost:8080/"
        },
        "id": "g2t2-TPt_Qk2",
        "outputId": "ed90fc23-a5ae-420a-cdcb-ac0e0c5d2ac2"
      },
      "outputs": [
        {
          "output_type": "stream",
          "name": "stdout",
          "text": [
            "Mounted at /content/drive\n",
            "Requirement already satisfied: librosa in /usr/local/lib/python3.10/dist-packages (0.10.2.post1)\n",
            "Requirement already satisfied: matplotlib in /usr/local/lib/python3.10/dist-packages (3.8.0)\n",
            "Requirement already satisfied: audioread>=2.1.9 in /usr/local/lib/python3.10/dist-packages (from librosa) (3.0.1)\n",
            "Requirement already satisfied: numpy!=1.22.0,!=1.22.1,!=1.22.2,>=1.20.3 in /usr/local/lib/python3.10/dist-packages (from librosa) (1.26.4)\n",
            "Requirement already satisfied: scipy>=1.2.0 in /usr/local/lib/python3.10/dist-packages (from librosa) (1.13.1)\n",
            "Requirement already satisfied: scikit-learn>=0.20.0 in /usr/local/lib/python3.10/dist-packages (from librosa) (1.5.2)\n",
            "Requirement already satisfied: joblib>=0.14 in /usr/local/lib/python3.10/dist-packages (from librosa) (1.4.2)\n",
            "Requirement already satisfied: decorator>=4.3.0 in /usr/local/lib/python3.10/dist-packages (from librosa) (4.4.2)\n",
            "Requirement already satisfied: numba>=0.51.0 in /usr/local/lib/python3.10/dist-packages (from librosa) (0.60.0)\n",
            "Requirement already satisfied: soundfile>=0.12.1 in /usr/local/lib/python3.10/dist-packages (from librosa) (0.12.1)\n",
            "Requirement already satisfied: pooch>=1.1 in /usr/local/lib/python3.10/dist-packages (from librosa) (1.8.2)\n",
            "Requirement already satisfied: soxr>=0.3.2 in /usr/local/lib/python3.10/dist-packages (from librosa) (0.5.0.post1)\n",
            "Requirement already satisfied: typing-extensions>=4.1.1 in /usr/local/lib/python3.10/dist-packages (from librosa) (4.12.2)\n",
            "Requirement already satisfied: lazy-loader>=0.1 in /usr/local/lib/python3.10/dist-packages (from librosa) (0.4)\n",
            "Requirement already satisfied: msgpack>=1.0 in /usr/local/lib/python3.10/dist-packages (from librosa) (1.1.0)\n",
            "Requirement already satisfied: contourpy>=1.0.1 in /usr/local/lib/python3.10/dist-packages (from matplotlib) (1.3.1)\n",
            "Requirement already satisfied: cycler>=0.10 in /usr/local/lib/python3.10/dist-packages (from matplotlib) (0.12.1)\n",
            "Requirement already satisfied: fonttools>=4.22.0 in /usr/local/lib/python3.10/dist-packages (from matplotlib) (4.55.0)\n",
            "Requirement already satisfied: kiwisolver>=1.0.1 in /usr/local/lib/python3.10/dist-packages (from matplotlib) (1.4.7)\n",
            "Requirement already satisfied: packaging>=20.0 in /usr/local/lib/python3.10/dist-packages (from matplotlib) (24.2)\n",
            "Requirement already satisfied: pillow>=6.2.0 in /usr/local/lib/python3.10/dist-packages (from matplotlib) (11.0.0)\n",
            "Requirement already satisfied: pyparsing>=2.3.1 in /usr/local/lib/python3.10/dist-packages (from matplotlib) (3.2.0)\n",
            "Requirement already satisfied: python-dateutil>=2.7 in /usr/local/lib/python3.10/dist-packages (from matplotlib) (2.8.2)\n",
            "Requirement already satisfied: llvmlite<0.44,>=0.43.0dev0 in /usr/local/lib/python3.10/dist-packages (from numba>=0.51.0->librosa) (0.43.0)\n",
            "Requirement already satisfied: platformdirs>=2.5.0 in /usr/local/lib/python3.10/dist-packages (from pooch>=1.1->librosa) (4.3.6)\n",
            "Requirement already satisfied: requests>=2.19.0 in /usr/local/lib/python3.10/dist-packages (from pooch>=1.1->librosa) (2.32.3)\n",
            "Requirement already satisfied: six>=1.5 in /usr/local/lib/python3.10/dist-packages (from python-dateutil>=2.7->matplotlib) (1.16.0)\n",
            "Requirement already satisfied: threadpoolctl>=3.1.0 in /usr/local/lib/python3.10/dist-packages (from scikit-learn>=0.20.0->librosa) (3.5.0)\n",
            "Requirement already satisfied: cffi>=1.0 in /usr/local/lib/python3.10/dist-packages (from soundfile>=0.12.1->librosa) (1.17.1)\n",
            "Requirement already satisfied: pycparser in /usr/local/lib/python3.10/dist-packages (from cffi>=1.0->soundfile>=0.12.1->librosa) (2.22)\n",
            "Requirement already satisfied: charset-normalizer<4,>=2 in /usr/local/lib/python3.10/dist-packages (from requests>=2.19.0->pooch>=1.1->librosa) (3.4.0)\n",
            "Requirement already satisfied: idna<4,>=2.5 in /usr/local/lib/python3.10/dist-packages (from requests>=2.19.0->pooch>=1.1->librosa) (3.10)\n",
            "Requirement already satisfied: urllib3<3,>=1.21.1 in /usr/local/lib/python3.10/dist-packages (from requests>=2.19.0->pooch>=1.1->librosa) (2.2.3)\n",
            "Requirement already satisfied: certifi>=2017.4.17 in /usr/local/lib/python3.10/dist-packages (from requests>=2.19.0->pooch>=1.1->librosa) (2024.8.30)\n"
          ]
        }
      ],
      "source": [
        "from google.colab import drive\n",
        "\n",
        "# Mount your Google Drive\n",
        "drive.mount('/content/drive')\n",
        "\n",
        "!pip install librosa matplotlib\n",
        "import librosa\n",
        "import librosa.display\n",
        "import matplotlib.pyplot as plt\n",
        "import numpy as np"
      ]
    },
    {
      "cell_type": "markdown",
      "source": [
        "Step 2: Load and Process Audio Files\n",
        "\n",
        "We'll use the librosa library to handle audio files and generate more spectrograms features, and matplotlib to display or save them. Install the necessary libraries if they’re not already installed"
      ],
      "metadata": {
        "id": "_GEVW7Qm_4Ge"
      }
    },
    {
      "cell_type": "code",
      "source": [
        "!pip install librosa matplotlib"
      ],
      "metadata": {
        "colab": {
          "base_uri": "https://localhost:8080/"
        },
        "id": "LxpJ_mz8PG2Y",
        "outputId": "803e1c3f-22d3-4dd1-d7fa-debac83e9092"
      },
      "execution_count": null,
      "outputs": [
        {
          "output_type": "stream",
          "name": "stdout",
          "text": [
            "Requirement already satisfied: librosa in /usr/local/lib/python3.10/dist-packages (0.10.2.post1)\n",
            "Requirement already satisfied: matplotlib in /usr/local/lib/python3.10/dist-packages (3.8.0)\n",
            "Requirement already satisfied: audioread>=2.1.9 in /usr/local/lib/python3.10/dist-packages (from librosa) (3.0.1)\n",
            "Requirement already satisfied: numpy!=1.22.0,!=1.22.1,!=1.22.2,>=1.20.3 in /usr/local/lib/python3.10/dist-packages (from librosa) (1.26.4)\n",
            "Requirement already satisfied: scipy>=1.2.0 in /usr/local/lib/python3.10/dist-packages (from librosa) (1.13.1)\n",
            "Requirement already satisfied: scikit-learn>=0.20.0 in /usr/local/lib/python3.10/dist-packages (from librosa) (1.5.2)\n",
            "Requirement already satisfied: joblib>=0.14 in /usr/local/lib/python3.10/dist-packages (from librosa) (1.4.2)\n",
            "Requirement already satisfied: decorator>=4.3.0 in /usr/local/lib/python3.10/dist-packages (from librosa) (4.4.2)\n",
            "Requirement already satisfied: numba>=0.51.0 in /usr/local/lib/python3.10/dist-packages (from librosa) (0.60.0)\n",
            "Requirement already satisfied: soundfile>=0.12.1 in /usr/local/lib/python3.10/dist-packages (from librosa) (0.12.1)\n",
            "Requirement already satisfied: pooch>=1.1 in /usr/local/lib/python3.10/dist-packages (from librosa) (1.8.2)\n",
            "Requirement already satisfied: soxr>=0.3.2 in /usr/local/lib/python3.10/dist-packages (from librosa) (0.5.0.post1)\n",
            "Requirement already satisfied: typing-extensions>=4.1.1 in /usr/local/lib/python3.10/dist-packages (from librosa) (4.12.2)\n",
            "Requirement already satisfied: lazy-loader>=0.1 in /usr/local/lib/python3.10/dist-packages (from librosa) (0.4)\n",
            "Requirement already satisfied: msgpack>=1.0 in /usr/local/lib/python3.10/dist-packages (from librosa) (1.1.0)\n",
            "Requirement already satisfied: contourpy>=1.0.1 in /usr/local/lib/python3.10/dist-packages (from matplotlib) (1.3.1)\n",
            "Requirement already satisfied: cycler>=0.10 in /usr/local/lib/python3.10/dist-packages (from matplotlib) (0.12.1)\n",
            "Requirement already satisfied: fonttools>=4.22.0 in /usr/local/lib/python3.10/dist-packages (from matplotlib) (4.55.0)\n",
            "Requirement already satisfied: kiwisolver>=1.0.1 in /usr/local/lib/python3.10/dist-packages (from matplotlib) (1.4.7)\n",
            "Requirement already satisfied: packaging>=20.0 in /usr/local/lib/python3.10/dist-packages (from matplotlib) (24.2)\n",
            "Requirement already satisfied: pillow>=6.2.0 in /usr/local/lib/python3.10/dist-packages (from matplotlib) (11.0.0)\n",
            "Requirement already satisfied: pyparsing>=2.3.1 in /usr/local/lib/python3.10/dist-packages (from matplotlib) (3.2.0)\n",
            "Requirement already satisfied: python-dateutil>=2.7 in /usr/local/lib/python3.10/dist-packages (from matplotlib) (2.8.2)\n",
            "Requirement already satisfied: llvmlite<0.44,>=0.43.0dev0 in /usr/local/lib/python3.10/dist-packages (from numba>=0.51.0->librosa) (0.43.0)\n",
            "Requirement already satisfied: platformdirs>=2.5.0 in /usr/local/lib/python3.10/dist-packages (from pooch>=1.1->librosa) (4.3.6)\n",
            "Requirement already satisfied: requests>=2.19.0 in /usr/local/lib/python3.10/dist-packages (from pooch>=1.1->librosa) (2.32.3)\n",
            "Requirement already satisfied: six>=1.5 in /usr/local/lib/python3.10/dist-packages (from python-dateutil>=2.7->matplotlib) (1.16.0)\n",
            "Requirement already satisfied: threadpoolctl>=3.1.0 in /usr/local/lib/python3.10/dist-packages (from scikit-learn>=0.20.0->librosa) (3.5.0)\n",
            "Requirement already satisfied: cffi>=1.0 in /usr/local/lib/python3.10/dist-packages (from soundfile>=0.12.1->librosa) (1.17.1)\n",
            "Requirement already satisfied: pycparser in /usr/local/lib/python3.10/dist-packages (from cffi>=1.0->soundfile>=0.12.1->librosa) (2.22)\n",
            "Requirement already satisfied: charset-normalizer<4,>=2 in /usr/local/lib/python3.10/dist-packages (from requests>=2.19.0->pooch>=1.1->librosa) (3.4.0)\n",
            "Requirement already satisfied: idna<4,>=2.5 in /usr/local/lib/python3.10/dist-packages (from requests>=2.19.0->pooch>=1.1->librosa) (3.10)\n",
            "Requirement already satisfied: urllib3<3,>=1.21.1 in /usr/local/lib/python3.10/dist-packages (from requests>=2.19.0->pooch>=1.1->librosa) (2.2.3)\n",
            "Requirement already satisfied: certifi>=2017.4.17 in /usr/local/lib/python3.10/dist-packages (from requests>=2.19.0->pooch>=1.1->librosa) (2024.8.30)\n"
          ]
        }
      ]
    },
    {
      "cell_type": "code",
      "source": [
        "#solo music\n",
        "import os\n",
        "import librosa\n",
        "import librosa.display\n",
        "import matplotlib.pyplot as plt\n",
        "import numpy as np\n",
        "\n",
        "# Define the path to your Google Drive folder containing audio files\n",
        "folder_path = '/content/drive/MyDrive/ece446project/morefeatures/solo'  # Replace with your actual folder path\n",
        "\n",
        "# Check if the folder exists\n",
        "if not os.path.exists(folder_path):\n",
        "    print(\"Folder not found. Please check the path.\")\n",
        "else:\n",
        "    # Create a directory to save feature analysis results and plots\n",
        "    results_path = os.path.join(folder_path, \"Analysis_Results\")\n",
        "    plots_path = os.path.join(folder_path, \"Feature_Plots\")\n",
        "    os.makedirs(results_path, exist_ok=True)\n",
        "    os.makedirs(plots_path, exist_ok=True)\n",
        "\n",
        "    # Loop through all files in the folder\n",
        "    for filename in os.listdir(folder_path):\n",
        "        # Check if the file is an audio file (e.g., .wav, .m4a)\n",
        "        if filename.endswith('.wav') or filename.endswith('.m4a'):\n",
        "            file_path = os.path.join(folder_path, filename)\n",
        "\n",
        "            # Load the audio file\n",
        "            y, sr = librosa.load(file_path)\n",
        "\n",
        "            # Generate the Mel spectrogram\n",
        "            S = librosa.feature.melspectrogram(y=y, sr=sr)\n",
        "            S_dB = librosa.power_to_db(S, ref=np.max)\n",
        "\n",
        "            # Compute spectral features\n",
        "            spectral_centroid = librosa.feature.spectral_centroid(y=y, sr=sr).flatten()\n",
        "            spectral_rolloff = librosa.feature.spectral_rolloff(y=y, sr=sr, roll_percent=0.85).flatten()\n",
        "            spectral_flatness = librosa.feature.spectral_flatness(y=y).flatten()\n",
        "\n",
        "            # Compute spectral entropy\n",
        "            S_normalized = S / np.sum(S, axis=0, keepdims=True)  # Normalize to sum to 1 along time\n",
        "            spectral_entropy = -np.sum(S_normalized * np.log(S_normalized + 1e-10), axis=0)  # Add small value to avoid log(0)\n",
        "\n",
        "            # Plot the features\n",
        "            time = np.linspace(0, len(y) / sr, len(spectral_centroid))\n",
        "\n",
        "            plt.figure(figsize=(12, 8))\n",
        "\n",
        "            # Spectral Centroid\n",
        "            plt.subplot(4, 1, 1)\n",
        "            plt.plot(time, spectral_centroid, color='b')\n",
        "            plt.title(f\"Spectral Centroid of {filename}\")\n",
        "            plt.xlabel(\"Time (s)\")\n",
        "            plt.ylabel(\"Centroid (Hz)\")\n",
        "\n",
        "            # Spectral Roll-off\n",
        "            plt.subplot(4, 1, 2)\n",
        "            plt.plot(time, spectral_rolloff, color='r')\n",
        "            plt.title(f\"Spectral Roll-off of {filename}\")\n",
        "            plt.xlabel(\"Time (s)\")\n",
        "            plt.ylabel(\"Roll-off Frequency (Hz)\")\n",
        "\n",
        "            # Spectral Flatness\n",
        "            plt.subplot(4, 1, 3)\n",
        "            plt.plot(time, spectral_flatness, color='g')\n",
        "            plt.title(f\"Spectral Flatness of {filename}\")\n",
        "            plt.xlabel(\"Time (s)\")\n",
        "            plt.ylabel(\"Flatness\")\n",
        "\n",
        "            # Spectral Entropy\n",
        "            plt.subplot(4, 1, 4)\n",
        "            plt.plot(time, spectral_entropy, color='m')\n",
        "            plt.title(f\"Spectral Entropy of {filename}\")\n",
        "            plt.xlabel(\"Time (s)\")\n",
        "            plt.ylabel(\"Entropy\")\n",
        "\n",
        "            plt.tight_layout()\n",
        "\n",
        "            # Save the plot\n",
        "            plot_save_path = os.path.join(plots_path, f\"{filename}_features_plot.png\")\n",
        "            plt.savefig(plot_save_path)\n",
        "            plt.close()\n",
        "\n",
        "            print(f\"Feature plots for {filename} saved at {plot_save_path}.\")\n"
      ],
      "metadata": {
        "colab": {
          "base_uri": "https://localhost:8080/"
        },
        "id": "8hVElsnR_rbT",
        "outputId": "808568cf-b4b7-4769-8ac6-4a2eac59d51e"
      },
      "execution_count": null,
      "outputs": [
        {
          "output_type": "stream",
          "name": "stderr",
          "text": [
            "<ipython-input-6-d0ef6b2a28dd>:28: UserWarning: PySoundFile failed. Trying audioread instead.\n",
            "  y, sr = librosa.load(file_path)\n",
            "/usr/local/lib/python3.10/dist-packages/librosa/core/audio.py:184: FutureWarning: librosa.core.audio.__audioread_load\n",
            "\tDeprecated as of librosa version 0.10.0.\n",
            "\tIt will be removed in librosa version 1.0.\n",
            "  y, sr_native = __audioread_load(path, offset, duration, dtype)\n"
          ]
        },
        {
          "output_type": "stream",
          "name": "stdout",
          "text": [
            "Feature plots for KazooG.m4a saved at /content/drive/MyDrive/ece446project/morefeatures/solo/Feature_Plots/KazooG.m4a_features_plot.png.\n"
          ]
        },
        {
          "output_type": "stream",
          "name": "stderr",
          "text": [
            "<ipython-input-6-d0ef6b2a28dd>:28: UserWarning: PySoundFile failed. Trying audioread instead.\n",
            "  y, sr = librosa.load(file_path)\n",
            "/usr/local/lib/python3.10/dist-packages/librosa/core/audio.py:184: FutureWarning: librosa.core.audio.__audioread_load\n",
            "\tDeprecated as of librosa version 0.10.0.\n",
            "\tIt will be removed in librosa version 1.0.\n",
            "  y, sr_native = __audioread_load(path, offset, duration, dtype)\n"
          ]
        },
        {
          "output_type": "stream",
          "name": "stdout",
          "text": [
            "Feature plots for FluteG.m4a saved at /content/drive/MyDrive/ece446project/morefeatures/solo/Feature_Plots/FluteG.m4a_features_plot.png.\n"
          ]
        },
        {
          "output_type": "stream",
          "name": "stderr",
          "text": [
            "<ipython-input-6-d0ef6b2a28dd>:28: UserWarning: PySoundFile failed. Trying audioread instead.\n",
            "  y, sr = librosa.load(file_path)\n",
            "/usr/local/lib/python3.10/dist-packages/librosa/core/audio.py:184: FutureWarning: librosa.core.audio.__audioread_load\n",
            "\tDeprecated as of librosa version 0.10.0.\n",
            "\tIt will be removed in librosa version 1.0.\n",
            "  y, sr_native = __audioread_load(path, offset, duration, dtype)\n"
          ]
        },
        {
          "output_type": "stream",
          "name": "stdout",
          "text": [
            "Feature plots for tongue drum.m4a saved at /content/drive/MyDrive/ece446project/morefeatures/solo/Feature_Plots/tongue drum.m4a_features_plot.png.\n"
          ]
        },
        {
          "output_type": "stream",
          "name": "stderr",
          "text": [
            "<ipython-input-6-d0ef6b2a28dd>:28: UserWarning: PySoundFile failed. Trying audioread instead.\n",
            "  y, sr = librosa.load(file_path)\n",
            "/usr/local/lib/python3.10/dist-packages/librosa/core/audio.py:184: FutureWarning: librosa.core.audio.__audioread_load\n",
            "\tDeprecated as of librosa version 0.10.0.\n",
            "\tIt will be removed in librosa version 1.0.\n",
            "  y, sr_native = __audioread_load(path, offset, duration, dtype)\n"
          ]
        },
        {
          "output_type": "stream",
          "name": "stdout",
          "text": [
            "Feature plots for timpani.m4a saved at /content/drive/MyDrive/ece446project/morefeatures/solo/Feature_Plots/timpani.m4a_features_plot.png.\n"
          ]
        },
        {
          "output_type": "stream",
          "name": "stderr",
          "text": [
            "<ipython-input-6-d0ef6b2a28dd>:28: UserWarning: PySoundFile failed. Trying audioread instead.\n",
            "  y, sr = librosa.load(file_path)\n",
            "/usr/local/lib/python3.10/dist-packages/librosa/core/audio.py:184: FutureWarning: librosa.core.audio.__audioread_load\n",
            "\tDeprecated as of librosa version 0.10.0.\n",
            "\tIt will be removed in librosa version 1.0.\n",
            "  y, sr_native = __audioread_load(path, offset, duration, dtype)\n"
          ]
        },
        {
          "output_type": "stream",
          "name": "stdout",
          "text": [
            "Feature plots for kalimba.m4a saved at /content/drive/MyDrive/ece446project/morefeatures/solo/Feature_Plots/kalimba.m4a_features_plot.png.\n"
          ]
        }
      ]
    },
    {
      "cell_type": "code",
      "source": [
        "#chamber music\n",
        "import os\n",
        "import librosa\n",
        "import librosa.display\n",
        "import matplotlib.pyplot as plt\n",
        "import numpy as np\n",
        "\n",
        "# Define the path to your Google Drive folder containing audio files\n",
        "folder_path = '/content/drive/MyDrive/ece446project/morefeatures/chamber'  # Replace with your actual folder path\n",
        "\n",
        "# Check if the folder exists\n",
        "if not os.path.exists(folder_path):\n",
        "    print(\"Folder not found. Please check the path.\")\n",
        "else:\n",
        "    # Create a directory to save feature analysis results and plots\n",
        "    results_path = os.path.join(folder_path, \"Analysis_Results\")\n",
        "    plots_path = os.path.join(folder_path, \"Feature_Plots\")\n",
        "    os.makedirs(results_path, exist_ok=True)\n",
        "    os.makedirs(plots_path, exist_ok=True)\n",
        "\n",
        "    # Loop through all files in the folder\n",
        "    for filename in os.listdir(folder_path):\n",
        "        # Check if the file is an audio file (e.g., .wav, .m4a)\n",
        "        if filename.endswith('.wav') or filename.endswith('.m4a'):\n",
        "            file_path = os.path.join(folder_path, filename)\n",
        "\n",
        "            # Load the audio file\n",
        "            y, sr = librosa.load(file_path)\n",
        "\n",
        "            # Generate the Mel spectrogram\n",
        "            S = librosa.feature.melspectrogram(y=y, sr=sr)\n",
        "            S_dB = librosa.power_to_db(S, ref=np.max)\n",
        "\n",
        "            # Compute spectral features\n",
        "            spectral_centroid = librosa.feature.spectral_centroid(y=y, sr=sr).flatten()\n",
        "            spectral_rolloff = librosa.feature.spectral_rolloff(y=y, sr=sr, roll_percent=0.85).flatten()\n",
        "            spectral_flatness = librosa.feature.spectral_flatness(y=y).flatten()\n",
        "\n",
        "            # Compute spectral entropy\n",
        "            S_normalized = S / np.sum(S, axis=0, keepdims=True)  # Normalize to sum to 1 along time\n",
        "            spectral_entropy = -np.sum(S_normalized * np.log(S_normalized + 1e-10), axis=0)  # Add small value to avoid log(0)\n",
        "\n",
        "            # Plot the features\n",
        "            time = np.linspace(0, len(y) / sr, len(spectral_centroid))\n",
        "\n",
        "            plt.figure(figsize=(12, 8))\n",
        "\n",
        "            # Spectral Centroid\n",
        "            plt.subplot(4, 1, 1)\n",
        "            plt.plot(time, spectral_centroid, color='b')\n",
        "            plt.title(f\"Spectral Centroid of {filename}\")\n",
        "            plt.xlabel(\"Time (s)\")\n",
        "            plt.ylabel(\"Centroid (Hz)\")\n",
        "\n",
        "            # Spectral Roll-off\n",
        "            plt.subplot(4, 1, 2)\n",
        "            plt.plot(time, spectral_rolloff, color='r')\n",
        "            plt.title(f\"Spectral Roll-off of {filename}\")\n",
        "            plt.xlabel(\"Time (s)\")\n",
        "            plt.ylabel(\"Roll-off Frequency (Hz)\")\n",
        "\n",
        "            # Spectral Flatness\n",
        "            plt.subplot(4, 1, 3)\n",
        "            plt.plot(time, spectral_flatness, color='g')\n",
        "            plt.title(f\"Spectral Flatness of {filename}\")\n",
        "            plt.xlabel(\"Time (s)\")\n",
        "            plt.ylabel(\"Flatness\")\n",
        "\n",
        "            # Spectral Entropy\n",
        "            plt.subplot(4, 1, 4)\n",
        "            plt.plot(time, spectral_entropy, color='m')\n",
        "            plt.title(f\"Spectral Entropy of {filename}\")\n",
        "            plt.xlabel(\"Time (s)\")\n",
        "            plt.ylabel(\"Entropy\")\n",
        "\n",
        "            plt.tight_layout()\n",
        "\n",
        "            # Save the plot\n",
        "            plot_save_path = os.path.join(plots_path, f\"{filename}_features_plot.png\")\n",
        "            plt.savefig(plot_save_path)\n",
        "            plt.close()\n",
        "\n",
        "            print(f\"Feature plots for {filename} saved at {plot_save_path}.\")\n"
      ],
      "metadata": {
        "colab": {
          "base_uri": "https://localhost:8080/"
        },
        "id": "xQNgc3H2UU4s",
        "outputId": "a2f68659-2ae6-41eb-b85f-d8022f9e6b09"
      },
      "execution_count": null,
      "outputs": [
        {
          "output_type": "stream",
          "name": "stderr",
          "text": [
            "<ipython-input-13-aa56d4a84e1d>:27: UserWarning: PySoundFile failed. Trying audioread instead.\n",
            "  y, sr = librosa.load(file_path)\n",
            "/usr/local/lib/python3.10/dist-packages/librosa/core/audio.py:184: FutureWarning: librosa.core.audio.__audioread_load\n",
            "\tDeprecated as of librosa version 0.10.0.\n",
            "\tIt will be removed in librosa version 1.0.\n",
            "  y, sr_native = __audioread_load(path, offset, duration, dtype)\n"
          ]
        },
        {
          "output_type": "stream",
          "name": "stdout",
          "text": [
            "Feature plots for kazoo and tongue drum.m4a saved at /content/drive/MyDrive/ece446project/morefeatures/chamber/Feature_Plots/kazoo and tongue drum.m4a_features_plot.png.\n"
          ]
        },
        {
          "output_type": "stream",
          "name": "stderr",
          "text": [
            "<ipython-input-13-aa56d4a84e1d>:27: UserWarning: PySoundFile failed. Trying audioread instead.\n",
            "  y, sr = librosa.load(file_path)\n",
            "/usr/local/lib/python3.10/dist-packages/librosa/core/audio.py:184: FutureWarning: librosa.core.audio.__audioread_load\n",
            "\tDeprecated as of librosa version 0.10.0.\n",
            "\tIt will be removed in librosa version 1.0.\n",
            "  y, sr_native = __audioread_load(path, offset, duration, dtype)\n"
          ]
        },
        {
          "output_type": "stream",
          "name": "stdout",
          "text": [
            "Feature plots for kazoo and timpani.m4a saved at /content/drive/MyDrive/ece446project/morefeatures/chamber/Feature_Plots/kazoo and timpani.m4a_features_plot.png.\n"
          ]
        },
        {
          "output_type": "stream",
          "name": "stderr",
          "text": [
            "<ipython-input-13-aa56d4a84e1d>:27: UserWarning: PySoundFile failed. Trying audioread instead.\n",
            "  y, sr = librosa.load(file_path)\n",
            "/usr/local/lib/python3.10/dist-packages/librosa/core/audio.py:184: FutureWarning: librosa.core.audio.__audioread_load\n",
            "\tDeprecated as of librosa version 0.10.0.\n",
            "\tIt will be removed in librosa version 1.0.\n",
            "  y, sr_native = __audioread_load(path, offset, duration, dtype)\n"
          ]
        },
        {
          "output_type": "stream",
          "name": "stdout",
          "text": [
            "Feature plots for kazoo and kalimba.m4a saved at /content/drive/MyDrive/ece446project/morefeatures/chamber/Feature_Plots/kazoo and kalimba.m4a_features_plot.png.\n"
          ]
        },
        {
          "output_type": "stream",
          "name": "stderr",
          "text": [
            "<ipython-input-13-aa56d4a84e1d>:27: UserWarning: PySoundFile failed. Trying audioread instead.\n",
            "  y, sr = librosa.load(file_path)\n",
            "/usr/local/lib/python3.10/dist-packages/librosa/core/audio.py:184: FutureWarning: librosa.core.audio.__audioread_load\n",
            "\tDeprecated as of librosa version 0.10.0.\n",
            "\tIt will be removed in librosa version 1.0.\n",
            "  y, sr_native = __audioread_load(path, offset, duration, dtype)\n"
          ]
        },
        {
          "output_type": "stream",
          "name": "stdout",
          "text": [
            "Feature plots for flute and tongue drum.m4a saved at /content/drive/MyDrive/ece446project/morefeatures/chamber/Feature_Plots/flute and tongue drum.m4a_features_plot.png.\n"
          ]
        },
        {
          "output_type": "stream",
          "name": "stderr",
          "text": [
            "<ipython-input-13-aa56d4a84e1d>:27: UserWarning: PySoundFile failed. Trying audioread instead.\n",
            "  y, sr = librosa.load(file_path)\n",
            "/usr/local/lib/python3.10/dist-packages/librosa/core/audio.py:184: FutureWarning: librosa.core.audio.__audioread_load\n",
            "\tDeprecated as of librosa version 0.10.0.\n",
            "\tIt will be removed in librosa version 1.0.\n",
            "  y, sr_native = __audioread_load(path, offset, duration, dtype)\n"
          ]
        },
        {
          "output_type": "stream",
          "name": "stdout",
          "text": [
            "Feature plots for flute and kalimba.m4a saved at /content/drive/MyDrive/ece446project/morefeatures/chamber/Feature_Plots/flute and kalimba.m4a_features_plot.png.\n"
          ]
        },
        {
          "output_type": "stream",
          "name": "stderr",
          "text": [
            "<ipython-input-13-aa56d4a84e1d>:27: UserWarning: PySoundFile failed. Trying audioread instead.\n",
            "  y, sr = librosa.load(file_path)\n",
            "/usr/local/lib/python3.10/dist-packages/librosa/core/audio.py:184: FutureWarning: librosa.core.audio.__audioread_load\n",
            "\tDeprecated as of librosa version 0.10.0.\n",
            "\tIt will be removed in librosa version 1.0.\n",
            "  y, sr_native = __audioread_load(path, offset, duration, dtype)\n"
          ]
        },
        {
          "output_type": "stream",
          "name": "stdout",
          "text": [
            "Feature plots for flute and timpani.m4a saved at /content/drive/MyDrive/ece446project/morefeatures/chamber/Feature_Plots/flute and timpani.m4a_features_plot.png.\n"
          ]
        }
      ]
    },
    {
      "cell_type": "markdown",
      "source": [
        "Step 3: do ANOVA comparisions for all solo & chamber recordings based on fundemental frequency"
      ],
      "metadata": {
        "id": "33XDjfJwY6cZ"
      }
    },
    {
      "cell_type": "code",
      "source": [
        "import os\n",
        "import librosa\n",
        "import numpy as np\n",
        "import scipy.stats as stats\n",
        "import matplotlib.pyplot as plt\n",
        "\n",
        "# Define the path to your Google Drive folder containing audio files\n",
        "folder_path = '/content/drive/MyDrive/ece446project/morefeatures/solo'  # Replace with your actual folder path\n",
        "\n",
        "# Define a folder to save the ANOVA plot\n",
        "plots_path = os.path.join(folder_path, \"ANOVA_Plots\")\n",
        "os.makedirs(plots_path, exist_ok=True)\n",
        "\n",
        "# Check if the folder exists\n",
        "if not os.path.exists(folder_path):\n",
        "    print(\"Folder not found. Please check the path.\")\n",
        "else:\n",
        "    # Dictionary to store fundamental frequencies for each file\n",
        "    f0_data = {}\n",
        "\n",
        "    # Loop through all files in the folder\n",
        "    for filename in os.listdir(folder_path):\n",
        "        # Check if the file is an audio file (e.g., .wav, .m4a)\n",
        "        if filename.endswith('.wav') or filename.endswith('.m4a'):\n",
        "            file_path = os.path.join(folder_path, filename)\n",
        "\n",
        "            # Load the audio file\n",
        "            y, sr = librosa.load(file_path)\n",
        "\n",
        "            # Estimate the fundamental frequency (f0)\n",
        "            f0, voiced_flags, voiced_probs = librosa.pyin(y, fmin=librosa.note_to_hz('C2'), fmax=librosa.note_to_hz('C7'))\n",
        "\n",
        "            # Filter out NaN values (unvoiced segments)\n",
        "            f0_cleaned = f0[~np.isnan(f0)]\n",
        "\n",
        "            # Store the cleaned f0 values for the file\n",
        "            f0_data[filename] = f0_cleaned\n",
        "\n",
        "    # Ensure there are enough files for ANOVA\n",
        "    if len(f0_data) < 2:\n",
        "        print(\"Not enough files with fundamental frequency data for ANOVA.\")\n",
        "    else:\n",
        "        # Prepare data for ANOVA test\n",
        "        groups = list(f0_data.keys())\n",
        "        f0_values = list(f0_data.values())\n",
        "\n",
        "        # Perform one-way ANOVA test\n",
        "        f_stat, p_value = stats.f_oneway(*f0_values)\n",
        "\n",
        "        # Output the results\n",
        "        print(\"ANOVA Test Results:\")\n",
        "        print(f\"F-statistic: {f_stat}\")\n",
        "        print(f\"P-value: {p_value}\")\n",
        "\n",
        "        # Interpret the results\n",
        "        if p_value < 0.05:\n",
        "            print(\"There is a statistically significant difference in the fundamental frequencies between the files.\")\n",
        "        else:\n",
        "            print(\"There is no statistically significant difference in the fundamental frequencies between the files.\")\n",
        "\n",
        "        # Plot the distributions of f0 for each file\n",
        "        plt.figure(figsize=(12, 6))\n",
        "        for i, (filename, f0_vals) in enumerate(f0_data.items()):\n",
        "            plt.hist(f0_vals, bins=50, alpha=0.5, label=filename)\n",
        "        plt.title(\"Fundamental Frequency Distributions\")\n",
        "        plt.xlabel(\"Frequency (Hz)\")\n",
        "        plt.ylabel(\"Count\")\n",
        "        plt.legend(loc='upper right')\n",
        "        plt.tight_layout()\n",
        "\n",
        "        # Save the plot\n",
        "        anova_plot_path = os.path.join(plots_path, \"ANOVA_Fundamental_Frequency.png\")\n",
        "        plt.savefig(anova_plot_path)\n",
        "        plt.close()\n",
        "\n",
        "        print(f\"ANOVA plot saved at {anova_plot_path}.\")\n"
      ],
      "metadata": {
        "colab": {
          "base_uri": "https://localhost:8080/"
        },
        "id": "EqL4qSKwZHpC",
        "outputId": "3acec3cc-7376-4468-fa1c-e3ff2d4ef4f4"
      },
      "execution_count": null,
      "outputs": [
        {
          "output_type": "stream",
          "name": "stderr",
          "text": [
            "<ipython-input-5-796a7784d8d4>:28: UserWarning: PySoundFile failed. Trying audioread instead.\n",
            "  y, sr = librosa.load(file_path)\n",
            "/usr/local/lib/python3.10/dist-packages/librosa/core/audio.py:184: FutureWarning: librosa.core.audio.__audioread_load\n",
            "\tDeprecated as of librosa version 0.10.0.\n",
            "\tIt will be removed in librosa version 1.0.\n",
            "  y, sr_native = __audioread_load(path, offset, duration, dtype)\n",
            "<ipython-input-5-796a7784d8d4>:28: UserWarning: PySoundFile failed. Trying audioread instead.\n",
            "  y, sr = librosa.load(file_path)\n",
            "/usr/local/lib/python3.10/dist-packages/librosa/core/audio.py:184: FutureWarning: librosa.core.audio.__audioread_load\n",
            "\tDeprecated as of librosa version 0.10.0.\n",
            "\tIt will be removed in librosa version 1.0.\n",
            "  y, sr_native = __audioread_load(path, offset, duration, dtype)\n",
            "<ipython-input-5-796a7784d8d4>:28: UserWarning: PySoundFile failed. Trying audioread instead.\n",
            "  y, sr = librosa.load(file_path)\n",
            "/usr/local/lib/python3.10/dist-packages/librosa/core/audio.py:184: FutureWarning: librosa.core.audio.__audioread_load\n",
            "\tDeprecated as of librosa version 0.10.0.\n",
            "\tIt will be removed in librosa version 1.0.\n",
            "  y, sr_native = __audioread_load(path, offset, duration, dtype)\n",
            "<ipython-input-5-796a7784d8d4>:28: UserWarning: PySoundFile failed. Trying audioread instead.\n",
            "  y, sr = librosa.load(file_path)\n",
            "/usr/local/lib/python3.10/dist-packages/librosa/core/audio.py:184: FutureWarning: librosa.core.audio.__audioread_load\n",
            "\tDeprecated as of librosa version 0.10.0.\n",
            "\tIt will be removed in librosa version 1.0.\n",
            "  y, sr_native = __audioread_load(path, offset, duration, dtype)\n",
            "<ipython-input-5-796a7784d8d4>:28: UserWarning: PySoundFile failed. Trying audioread instead.\n",
            "  y, sr = librosa.load(file_path)\n",
            "/usr/local/lib/python3.10/dist-packages/librosa/core/audio.py:184: FutureWarning: librosa.core.audio.__audioread_load\n",
            "\tDeprecated as of librosa version 0.10.0.\n",
            "\tIt will be removed in librosa version 1.0.\n",
            "  y, sr_native = __audioread_load(path, offset, duration, dtype)\n"
          ]
        },
        {
          "output_type": "stream",
          "name": "stdout",
          "text": [
            "ANOVA Test Results:\n",
            "F-statistic: 556.2896360482551\n",
            "P-value: 1.2991456e-317\n",
            "There is a statistically significant difference in the fundamental frequencies between the files.\n",
            "ANOVA plot saved at /content/drive/MyDrive/ece446project/morefeatures/solo/ANOVA_Plots/ANOVA_Fundamental_Frequency.png.\n"
          ]
        }
      ]
    },
    {
      "cell_type": "code",
      "source": [
        "#chamber chamber chamber\n",
        "\n",
        "# Define the path to your Google Drive folder containing audio files\n",
        "folder_path = '/content/drive/MyDrive/ece446project/morefeatures/chamber'  # Replace with your actual folder path\n",
        "\n",
        "# Define a folder to save the ANOVA plot\n",
        "plots_path = os.path.join(folder_path, \"ANOVA_Plots\")\n",
        "os.makedirs(plots_path, exist_ok=True)\n",
        "\n",
        "# Check if the folder exists\n",
        "if not os.path.exists(folder_path):\n",
        "    print(\"Folder not found. Please check the path.\")\n",
        "else:\n",
        "    # Dictionary to store fundamental frequencies for each file\n",
        "    f0_data = {}\n",
        "\n",
        "    # Loop through all files in the folder\n",
        "    for filename in os.listdir(folder_path):\n",
        "        # Check if the file is an audio file (e.g., .wav, .m4a)\n",
        "        if filename.endswith('.wav') or filename.endswith('.m4a'):\n",
        "            file_path = os.path.join(folder_path, filename)\n",
        "\n",
        "            # Load the audio file\n",
        "            y, sr = librosa.load(file_path)\n",
        "\n",
        "            # Estimate the fundamental frequency (f0)\n",
        "            f0, voiced_flags, voiced_probs = librosa.pyin(y, fmin=librosa.note_to_hz('C2'), fmax=librosa.note_to_hz('C7'))\n",
        "\n",
        "            # Filter out NaN values (unvoiced segments)\n",
        "            f0_cleaned = f0[~np.isnan(f0)]\n",
        "\n",
        "            # Store the cleaned f0 values for the file\n",
        "            f0_data[filename] = f0_cleaned\n",
        "\n",
        "    # Ensure there are enough files for ANOVA\n",
        "    if len(f0_data) < 2:\n",
        "        print(\"Not enough files with fundamental frequency data for ANOVA.\")\n",
        "    else:\n",
        "        # Prepare data for ANOVA test\n",
        "        groups = list(f0_data.keys())\n",
        "        f0_values = list(f0_data.values())\n",
        "\n",
        "        # Perform one-way ANOVA test\n",
        "        f_stat, p_value = stats.f_oneway(*f0_values)\n",
        "\n",
        "        # Output the results\n",
        "        print(\"ANOVA Test Results:\")\n",
        "        print(f\"F-statistic: {f_stat}\")\n",
        "        print(f\"P-value: {p_value}\")\n",
        "\n",
        "        # Interpret the results\n",
        "        if p_value < 0.05:\n",
        "            print(\"There is a statistically significant difference in the fundamental frequencies between the files.\")\n",
        "        else:\n",
        "            print(\"There is no statistically significant difference in the fundamental frequencies between the files.\")\n",
        "\n",
        "        # Plot the distributions of f0 for each file\n",
        "        plt.figure(figsize=(12, 6))\n",
        "        for i, (filename, f0_vals) in enumerate(f0_data.items()):\n",
        "            plt.hist(f0_vals, bins=50, alpha=0.5, label=filename)\n",
        "        plt.title(\"Fundamental Frequency Distributions\")\n",
        "        plt.xlabel(\"Frequency (Hz)\")\n",
        "        plt.ylabel(\"Count\")\n",
        "        plt.legend(loc='upper right')\n",
        "        plt.tight_layout()\n",
        "\n",
        "        # Save the plot\n",
        "        anova_plot_path = os.path.join(plots_path, \"ANOVA_Fundamental_Frequency.png\")\n",
        "        plt.savefig(anova_plot_path)\n",
        "        plt.close()\n",
        "\n",
        "        print(f\"ANOVA plot saved at {anova_plot_path}.\")\n"
      ],
      "metadata": {
        "colab": {
          "base_uri": "https://localhost:8080/"
        },
        "id": "l_rfxCxwavtZ",
        "outputId": "9e1d83c3-e1f3-4ed4-da9b-427f454c2777"
      },
      "execution_count": null,
      "outputs": [
        {
          "output_type": "stream",
          "name": "stderr",
          "text": [
            "<ipython-input-17-7a9ed4e51087>:24: UserWarning: PySoundFile failed. Trying audioread instead.\n",
            "  y, sr = librosa.load(file_path)\n",
            "/usr/local/lib/python3.10/dist-packages/librosa/core/audio.py:184: FutureWarning: librosa.core.audio.__audioread_load\n",
            "\tDeprecated as of librosa version 0.10.0.\n",
            "\tIt will be removed in librosa version 1.0.\n",
            "  y, sr_native = __audioread_load(path, offset, duration, dtype)\n",
            "<ipython-input-17-7a9ed4e51087>:24: UserWarning: PySoundFile failed. Trying audioread instead.\n",
            "  y, sr = librosa.load(file_path)\n",
            "/usr/local/lib/python3.10/dist-packages/librosa/core/audio.py:184: FutureWarning: librosa.core.audio.__audioread_load\n",
            "\tDeprecated as of librosa version 0.10.0.\n",
            "\tIt will be removed in librosa version 1.0.\n",
            "  y, sr_native = __audioread_load(path, offset, duration, dtype)\n",
            "<ipython-input-17-7a9ed4e51087>:24: UserWarning: PySoundFile failed. Trying audioread instead.\n",
            "  y, sr = librosa.load(file_path)\n",
            "/usr/local/lib/python3.10/dist-packages/librosa/core/audio.py:184: FutureWarning: librosa.core.audio.__audioread_load\n",
            "\tDeprecated as of librosa version 0.10.0.\n",
            "\tIt will be removed in librosa version 1.0.\n",
            "  y, sr_native = __audioread_load(path, offset, duration, dtype)\n",
            "<ipython-input-17-7a9ed4e51087>:24: UserWarning: PySoundFile failed. Trying audioread instead.\n",
            "  y, sr = librosa.load(file_path)\n",
            "/usr/local/lib/python3.10/dist-packages/librosa/core/audio.py:184: FutureWarning: librosa.core.audio.__audioread_load\n",
            "\tDeprecated as of librosa version 0.10.0.\n",
            "\tIt will be removed in librosa version 1.0.\n",
            "  y, sr_native = __audioread_load(path, offset, duration, dtype)\n",
            "<ipython-input-17-7a9ed4e51087>:24: UserWarning: PySoundFile failed. Trying audioread instead.\n",
            "  y, sr = librosa.load(file_path)\n",
            "/usr/local/lib/python3.10/dist-packages/librosa/core/audio.py:184: FutureWarning: librosa.core.audio.__audioread_load\n",
            "\tDeprecated as of librosa version 0.10.0.\n",
            "\tIt will be removed in librosa version 1.0.\n",
            "  y, sr_native = __audioread_load(path, offset, duration, dtype)\n",
            "<ipython-input-17-7a9ed4e51087>:24: UserWarning: PySoundFile failed. Trying audioread instead.\n",
            "  y, sr = librosa.load(file_path)\n",
            "/usr/local/lib/python3.10/dist-packages/librosa/core/audio.py:184: FutureWarning: librosa.core.audio.__audioread_load\n",
            "\tDeprecated as of librosa version 0.10.0.\n",
            "\tIt will be removed in librosa version 1.0.\n",
            "  y, sr_native = __audioread_load(path, offset, duration, dtype)\n"
          ]
        },
        {
          "output_type": "stream",
          "name": "stdout",
          "text": [
            "ANOVA Test Results:\n",
            "F-statistic: 2337.654826974393\n",
            "P-value: 0.0\n",
            "There is a statistically significant difference in the fundamental frequencies between the files.\n",
            "ANOVA plot saved at /content/drive/MyDrive/ece446project/morefeatures/chamber/ANOVA_Plots/ANOVA_Fundamental_Frequency.png.\n"
          ]
        }
      ]
    },
    {
      "cell_type": "markdown",
      "source": [
        "Step 4: ANOVA Test for solo and chamber recordings based on audio power (RMS power)"
      ],
      "metadata": {
        "id": "UTHiA9FEcQTe"
      }
    },
    {
      "cell_type": "code",
      "source": [
        "#solo\n",
        "\n",
        "# Define the path to your Google Drive folder containing audio files\n",
        "folder_path = '/content/drive/MyDrive/ece446project/morefeatures/solo'  # Replace with your actual folder path\n",
        "\n",
        "# Define a folder to save the ANOVA plot\n",
        "plots_path = os.path.join(folder_path, \"ANOVA_Plots\")\n",
        "os.makedirs(plots_path, exist_ok=True)\n",
        "\n",
        "# Check if the folder exists\n",
        "if not os.path.exists(folder_path):\n",
        "    print(\"Folder not found. Please check the path.\")\n",
        "else:\n",
        "    # Dictionary to store audio power for each file\n",
        "    power_data = {}\n",
        "\n",
        "    # Loop through all files in the folder\n",
        "    for filename in os.listdir(folder_path):\n",
        "        # Check if the file is an audio file (e.g., .wav, .m4a)\n",
        "        if filename.endswith('.wav') or filename.endswith('.m4a'):\n",
        "            file_path = os.path.join(folder_path, filename)\n",
        "\n",
        "            # Load the audio file\n",
        "            y, sr = librosa.load(file_path)\n",
        "\n",
        "            # Compute audio power (RMS energy)\n",
        "            rms = librosa.feature.rms(y=y).flatten()\n",
        "            power_data[filename] = rms\n",
        "\n",
        "    # Ensure there are enough files for ANOVA\n",
        "    if len(power_data) < 2:\n",
        "        print(\"Not enough files with audio power data for ANOVA.\")\n",
        "    else:\n",
        "        # Prepare data for ANOVA test\n",
        "        groups = list(power_data.keys())\n",
        "        power_values = list(power_data.values())\n",
        "\n",
        "        # Perform one-way ANOVA test\n",
        "        f_stat, p_value = stats.f_oneway(*power_values)\n",
        "\n",
        "        # Output the results\n",
        "        print(\"ANOVA Test Results (Audio Power):\")\n",
        "        print(f\"F-statistic: {f_stat}\")\n",
        "        print(f\"P-value: {p_value}\")\n",
        "\n",
        "        # Interpret the results\n",
        "        if p_value < 0.05:\n",
        "            print(\"There is a statistically significant difference in audio power between the files.\")\n",
        "        else:\n",
        "            print(\"There is no statistically significant difference in audio power between the files.\")\n",
        "\n",
        "        # Plot the distributions of audio power for each file\n",
        "        plt.figure(figsize=(12, 6))\n",
        "        for i, (filename, rms_vals) in enumerate(power_data.items()):\n",
        "            plt.hist(rms_vals, bins=50, alpha=0.5, label=filename)\n",
        "        plt.title(\"Audio Power Distributions (RMS Energy)\")\n",
        "        plt.xlabel(\"Power (RMS Energy)\")\n",
        "        plt.ylabel(\"Count\")\n",
        "        plt.legend(loc='upper right')\n",
        "        plt.tight_layout()\n",
        "\n",
        "        # Save the plot\n",
        "        anova_power_plot_path = os.path.join(plots_path, \"ANOVA_Audio_Power.png\")\n",
        "        plt.savefig(anova_power_plot_path)\n",
        "        plt.close()\n",
        "\n",
        "        print(f\"Audio Power ANOVA plot saved at {anova_power_plot_path}.\")\n"
      ],
      "metadata": {
        "colab": {
          "base_uri": "https://localhost:8080/"
        },
        "id": "RMUVe8xrcNqq",
        "outputId": "4c40924d-dd2b-406d-9fea-c6f9d30f3277"
      },
      "execution_count": null,
      "outputs": [
        {
          "output_type": "stream",
          "name": "stderr",
          "text": [
            "<ipython-input-20-b2103379c884>:24: UserWarning: PySoundFile failed. Trying audioread instead.\n",
            "  y, sr = librosa.load(file_path)\n",
            "/usr/local/lib/python3.10/dist-packages/librosa/core/audio.py:184: FutureWarning: librosa.core.audio.__audioread_load\n",
            "\tDeprecated as of librosa version 0.10.0.\n",
            "\tIt will be removed in librosa version 1.0.\n",
            "  y, sr_native = __audioread_load(path, offset, duration, dtype)\n",
            "<ipython-input-20-b2103379c884>:24: UserWarning: PySoundFile failed. Trying audioread instead.\n",
            "  y, sr = librosa.load(file_path)\n",
            "/usr/local/lib/python3.10/dist-packages/librosa/core/audio.py:184: FutureWarning: librosa.core.audio.__audioread_load\n",
            "\tDeprecated as of librosa version 0.10.0.\n",
            "\tIt will be removed in librosa version 1.0.\n",
            "  y, sr_native = __audioread_load(path, offset, duration, dtype)\n",
            "<ipython-input-20-b2103379c884>:24: UserWarning: PySoundFile failed. Trying audioread instead.\n",
            "  y, sr = librosa.load(file_path)\n",
            "/usr/local/lib/python3.10/dist-packages/librosa/core/audio.py:184: FutureWarning: librosa.core.audio.__audioread_load\n",
            "\tDeprecated as of librosa version 0.10.0.\n",
            "\tIt will be removed in librosa version 1.0.\n",
            "  y, sr_native = __audioread_load(path, offset, duration, dtype)\n",
            "<ipython-input-20-b2103379c884>:24: UserWarning: PySoundFile failed. Trying audioread instead.\n",
            "  y, sr = librosa.load(file_path)\n",
            "/usr/local/lib/python3.10/dist-packages/librosa/core/audio.py:184: FutureWarning: librosa.core.audio.__audioread_load\n",
            "\tDeprecated as of librosa version 0.10.0.\n",
            "\tIt will be removed in librosa version 1.0.\n",
            "  y, sr_native = __audioread_load(path, offset, duration, dtype)\n",
            "<ipython-input-20-b2103379c884>:24: UserWarning: PySoundFile failed. Trying audioread instead.\n",
            "  y, sr = librosa.load(file_path)\n",
            "/usr/local/lib/python3.10/dist-packages/librosa/core/audio.py:184: FutureWarning: librosa.core.audio.__audioread_load\n",
            "\tDeprecated as of librosa version 0.10.0.\n",
            "\tIt will be removed in librosa version 1.0.\n",
            "  y, sr_native = __audioread_load(path, offset, duration, dtype)\n",
            "<ipython-input-20-b2103379c884>:24: UserWarning: PySoundFile failed. Trying audioread instead.\n",
            "  y, sr = librosa.load(file_path)\n",
            "/usr/local/lib/python3.10/dist-packages/librosa/core/audio.py:184: FutureWarning: librosa.core.audio.__audioread_load\n",
            "\tDeprecated as of librosa version 0.10.0.\n",
            "\tIt will be removed in librosa version 1.0.\n",
            "  y, sr_native = __audioread_load(path, offset, duration, dtype)\n"
          ]
        },
        {
          "output_type": "stream",
          "name": "stdout",
          "text": [
            "ANOVA Test Results (Audio Power):\n",
            "F-statistic: 235.59625899891935\n",
            "P-value: 4.8878154803231944e-194\n",
            "There is a statistically significant difference in audio power between the files.\n",
            "Audio Power ANOVA plot saved at /content/drive/MyDrive/ece446project/morefeatures/solo/ANOVA_Plots/ANOVA_Audio_Power.png.\n"
          ]
        }
      ]
    },
    {
      "cell_type": "markdown",
      "source": [],
      "metadata": {
        "id": "szlN5o5MdU2F"
      }
    },
    {
      "cell_type": "code",
      "source": [
        "#chamber chamber\n",
        "#solo\n",
        "\n",
        "# Define the path to your Google Drive folder containing audio files\n",
        "folder_path = '/content/drive/MyDrive/ece446project/morefeatures/chamber'  # Replace with your actual folder path\n",
        "\n",
        "# Define a folder to save the ANOVA plot\n",
        "plots_path = os.path.join(folder_path, \"ANOVA_Plots\")\n",
        "os.makedirs(plots_path, exist_ok=True)\n",
        "\n",
        "# Check if the folder exists\n",
        "if not os.path.exists(folder_path):\n",
        "    print(\"Folder not found. Please check the path.\")\n",
        "else:\n",
        "    # Dictionary to store audio power for each file\n",
        "    power_data = {}\n",
        "\n",
        "    # Loop through all files in the folder\n",
        "    for filename in os.listdir(folder_path):\n",
        "        # Check if the file is an audio file (e.g., .wav, .m4a)\n",
        "        if filename.endswith('.wav') or filename.endswith('.m4a'):\n",
        "            file_path = os.path.join(folder_path, filename)\n",
        "\n",
        "            # Load the audio file\n",
        "            y, sr = librosa.load(file_path)\n",
        "\n",
        "            # Compute audio power (RMS energy)\n",
        "            rms = librosa.feature.rms(y=y).flatten()\n",
        "            power_data[filename] = rms\n",
        "\n",
        "    # Ensure there are enough files for ANOVA\n",
        "    if len(power_data) < 2:\n",
        "        print(\"Not enough files with audio power data for ANOVA.\")\n",
        "    else:\n",
        "        # Prepare data for ANOVA test\n",
        "        groups = list(power_data.keys())\n",
        "        power_values = list(power_data.values())\n",
        "\n",
        "        # Perform one-way ANOVA test\n",
        "        f_stat, p_value = stats.f_oneway(*power_values)\n",
        "\n",
        "        # Output the results\n",
        "        print(\"ANOVA Test Results (Audio Power):\")\n",
        "        print(f\"F-statistic: {f_stat}\")\n",
        "        print(f\"P-value: {p_value}\")\n",
        "\n",
        "        # Interpret the results\n",
        "        if p_value < 0.05:\n",
        "            print(\"There is a statistically significant difference in audio power between the files.\")\n",
        "        else:\n",
        "            print(\"There is no statistically significant difference in audio power between the files.\")\n",
        "\n",
        "        # Plot the distributions of audio power for each file\n",
        "        plt.figure(figsize=(12, 6))\n",
        "        for i, (filename, rms_vals) in enumerate(power_data.items()):\n",
        "            plt.hist(rms_vals, bins=50, alpha=0.5, label=filename)\n",
        "        plt.title(\"Audio Power Distributions (RMS Energy)\")\n",
        "        plt.xlabel(\"Power (RMS Energy)\")\n",
        "        plt.ylabel(\"Count\")\n",
        "        plt.legend(loc='upper right')\n",
        "        plt.tight_layout()\n",
        "\n",
        "        # Save the plot\n",
        "        anova_power_plot_path = os.path.join(plots_path, \"ANOVA_Audio_Power.png\")\n",
        "        plt.savefig(anova_power_plot_path)\n",
        "        plt.close()\n",
        "\n",
        "        print(f\"Audio Power ANOVA plot saved at {anova_power_plot_path}.\")\n"
      ],
      "metadata": {
        "colab": {
          "base_uri": "https://localhost:8080/"
        },
        "id": "tRZNHZwEcshp",
        "outputId": "7fb50065-ad10-4c19-cc97-c78ae019bf6f"
      },
      "execution_count": null,
      "outputs": [
        {
          "output_type": "stream",
          "name": "stderr",
          "text": [
            "<ipython-input-21-96465257d38b>:25: UserWarning: PySoundFile failed. Trying audioread instead.\n",
            "  y, sr = librosa.load(file_path)\n",
            "/usr/local/lib/python3.10/dist-packages/librosa/core/audio.py:184: FutureWarning: librosa.core.audio.__audioread_load\n",
            "\tDeprecated as of librosa version 0.10.0.\n",
            "\tIt will be removed in librosa version 1.0.\n",
            "  y, sr_native = __audioread_load(path, offset, duration, dtype)\n",
            "<ipython-input-21-96465257d38b>:25: UserWarning: PySoundFile failed. Trying audioread instead.\n",
            "  y, sr = librosa.load(file_path)\n",
            "/usr/local/lib/python3.10/dist-packages/librosa/core/audio.py:184: FutureWarning: librosa.core.audio.__audioread_load\n",
            "\tDeprecated as of librosa version 0.10.0.\n",
            "\tIt will be removed in librosa version 1.0.\n",
            "  y, sr_native = __audioread_load(path, offset, duration, dtype)\n",
            "<ipython-input-21-96465257d38b>:25: UserWarning: PySoundFile failed. Trying audioread instead.\n",
            "  y, sr = librosa.load(file_path)\n",
            "/usr/local/lib/python3.10/dist-packages/librosa/core/audio.py:184: FutureWarning: librosa.core.audio.__audioread_load\n",
            "\tDeprecated as of librosa version 0.10.0.\n",
            "\tIt will be removed in librosa version 1.0.\n",
            "  y, sr_native = __audioread_load(path, offset, duration, dtype)\n",
            "<ipython-input-21-96465257d38b>:25: UserWarning: PySoundFile failed. Trying audioread instead.\n",
            "  y, sr = librosa.load(file_path)\n",
            "/usr/local/lib/python3.10/dist-packages/librosa/core/audio.py:184: FutureWarning: librosa.core.audio.__audioread_load\n",
            "\tDeprecated as of librosa version 0.10.0.\n",
            "\tIt will be removed in librosa version 1.0.\n",
            "  y, sr_native = __audioread_load(path, offset, duration, dtype)\n",
            "<ipython-input-21-96465257d38b>:25: UserWarning: PySoundFile failed. Trying audioread instead.\n",
            "  y, sr = librosa.load(file_path)\n",
            "/usr/local/lib/python3.10/dist-packages/librosa/core/audio.py:184: FutureWarning: librosa.core.audio.__audioread_load\n",
            "\tDeprecated as of librosa version 0.10.0.\n",
            "\tIt will be removed in librosa version 1.0.\n",
            "  y, sr_native = __audioread_load(path, offset, duration, dtype)\n",
            "<ipython-input-21-96465257d38b>:25: UserWarning: PySoundFile failed. Trying audioread instead.\n",
            "  y, sr = librosa.load(file_path)\n",
            "/usr/local/lib/python3.10/dist-packages/librosa/core/audio.py:184: FutureWarning: librosa.core.audio.__audioread_load\n",
            "\tDeprecated as of librosa version 0.10.0.\n",
            "\tIt will be removed in librosa version 1.0.\n",
            "  y, sr_native = __audioread_load(path, offset, duration, dtype)\n"
          ]
        },
        {
          "output_type": "stream",
          "name": "stdout",
          "text": [
            "ANOVA Test Results (Audio Power):\n",
            "F-statistic: 282.20577356060994\n",
            "P-value: 1.8487848943332294e-282\n",
            "There is a statistically significant difference in audio power between the files.\n",
            "Audio Power ANOVA plot saved at /content/drive/MyDrive/ece446project/morefeatures/chamber/ANOVA_Plots/ANOVA_Audio_Power.png.\n"
          ]
        }
      ]
    },
    {
      "cell_type": "markdown",
      "source": [
        "Step 5: T-test among two recordings"
      ],
      "metadata": {
        "id": "-UZp4curdWns"
      }
    },
    {
      "cell_type": "code",
      "source": [
        "import pandas as pd\n",
        "import matplotlib.pyplot as plt\n",
        "\n",
        "# Create a dictionary with the data\n",
        "data = {\n",
        "    \"Instrument\": [\"Kazoo\", \"Tongue Drum\", \"Western Concert Flute\", \"Timpani\", \"Kalimba\"],\n",
        "    \"Origin\": [\"United States (19th century)\", \"Africa & Caribbean\", \"Europe (France, 19th century)\",\n",
        "               \"Middle East, Europe\", \"Africa (Zimbabwe, Shona)\"],\n",
        "    \"Materials\": [\"Membrane, metal or plastic body\", \"Metal or wood\", \"Metal (silver, gold, alloys)\",\n",
        "                  \"Copper or fiberglass, animal/synthetic skin\", \"Wood, metal tines\"],\n",
        "    \"Notes\": [\"Alters voice through vibrating membrane\", \"Inspired by slit drums, modern design\",\n",
        "              \"Standardized modern concert flute\", \"Introduced to Europe during Crusades\",\n",
        "              \"Thumb piano, part of lamellophone family\"]\n",
        "}\n",
        "\n",
        "# Convert the dictionary into a pandas DataFrame\n",
        "df = pd.DataFrame(data)\n",
        "\n",
        "# Set up a figure and axis\n",
        "fig, ax = plt.subplots(figsize=(10, 3))  # You can adjust the figure size as needed\n",
        "\n",
        "# Hide axes\n",
        "ax.axis('off')\n",
        "\n",
        "# Create a table plot using matplotlib\n",
        "table = ax.table(cellText=df.values, colLabels=df.columns, cellLoc='center', loc='center')\n",
        "\n",
        "# Adjust table properties\n",
        "table.auto_set_font_size(False)\n",
        "table.set_fontsize(10)\n",
        "table.scale(1.2, 1.2)  # Adjust table size\n",
        "\n",
        "# Save the table as an image\n",
        "plt.savefig('instruments_table_image.png', bbox_inches='tight', dpi=300)\n",
        "\n",
        "# Show the plot\n",
        "plt.show()\n",
        "\n"
      ],
      "metadata": {
        "id": "a7_g6AX5df7v",
        "colab": {
          "base_uri": "https://localhost:8080/"
        },
        "outputId": "108a22b7-6af7-46d4-d17f-4412420fca7b"
      },
      "execution_count": null,
      "outputs": [
        {
          "output_type": "display_data",
          "data": {
            "text/plain": [
              "<Figure size 1000x300 with 1 Axes>"
            ],
            "image/png": "[encoded data removed]"
          },
          "metadata": {}
        }
      ]
    },
    {
      "cell_type": "code",
      "source": [],
      "metadata": {
        "id": "_fRFdCnpU6BY"
      },
      "execution_count": null,
      "outputs": []
    }
  ]
}